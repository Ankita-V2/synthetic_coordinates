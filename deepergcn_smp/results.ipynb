{
 "cells": [
  {
   "cell_type": "code",
   "execution_count": null,
   "metadata": {},
   "outputs": [],
   "source": [
    "%matplotlib inline"
   ]
  },
  {
   "cell_type": "code",
   "execution_count": null,
   "metadata": {
    "scrolled": true
   },
   "outputs": [],
   "source": [
    "import seml\n",
    "import pandas as pd\n",
    "pd.set_option('display.max_rows', 1000)\n",
    "from matplotlib import pyplot as plt\n",
    "plt.style.use('ggplot')\n",
    "import numpy as np"
   ]
  },
  {
   "cell_type": "code",
   "execution_count": null,
   "metadata": {},
   "outputs": [],
   "source": [
    "DB_COLLECTION = '<collection name>'\n",
    "\n",
    "# write batch IDs here\n",
    "exps = seml.get_results(DB_COLLECTION, to_data_frame=True, parallel=True, #\n",
    "                        filter_dict={'batch_id': {'$in': [1, 2, 3]}})\n",
    "\n",
    "print(df.shape)\n",
    "\n",
    "\n",
    "print(f'Selected experiments: {exps.shape}')"
   ]
  },
  {
   "cell_type": "code",
   "execution_count": null,
   "metadata": {},
   "outputs": [],
   "source": [
    "basic_list = ['config.add_ppr_dist', 'config.add_rdkit_dist', 'config.linegraph_dist', 'config.linegraph_angle']\n",
    "\n",
    "# use other group lists, for supplementary results, hyperparam tuning\n",
    "# group_list = ['config.dist_basis', 'config.angle_basis', 'config.emb_bottleneck']\n",
    "# group_list = ['config.num_layers']\n",
    "# group_list = ['config.hidden_channels']\n",
    "# group_list = ['config.emb_bottleneck', 'config.emb_basis_global', 'config.emb_basis_local']\n",
    "# group_list = ['config.linegraph_angle_mode']\n",
    "\n",
    "group_list = basic_list \n",
    "\n",
    "agg_list = 'mean', 'std', 'count'\n",
    "res = exps.groupby(group_list)['result.best_val', 'result.final_test'].agg(agg_list) \n",
    "res"
   ]
  }
 ],
 "metadata": {
  "kernelspec": {
   "display_name": "Python 3",
   "language": "python",
   "name": "python3"
  },
  "language_info": {
   "codemirror_mode": {
    "name": "ipython",
    "version": 3
   },
   "file_extension": ".py",
   "mimetype": "text/x-python",
   "name": "python",
   "nbconvert_exporter": "python",
   "pygments_lexer": "ipython3",
   "version": "3.7.6"
  }
 },
 "nbformat": 4,
 "nbformat_minor": 4
}
