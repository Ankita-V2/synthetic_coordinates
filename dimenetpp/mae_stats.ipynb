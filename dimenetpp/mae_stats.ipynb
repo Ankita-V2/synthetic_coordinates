{
 "cells": [
  {
   "cell_type": "code",
   "execution_count": 1,
   "id": "c9a1b330-2769-4b03-a942-bfc6e9462e41",
   "metadata": {},
   "outputs": [],
   "source": [
    "import numpy as np"
   ]
  },
  {
   "cell_type": "code",
   "execution_count": 18,
   "id": "3cae1815-3896-4f05-898c-4aff5d3041b9",
   "metadata": {},
   "outputs": [],
   "source": [
    "mae = np.array([\n",
    "    0.303182,\n",
    "0.171431,\n",
    "0.061671,\n",
    "0.054343,\n",
    "0.086227,\n",
    "12.676225,\n",
    "0.002982,\n",
    "0.028696,\n",
    "0.029624,\n",
    "0.029639,\n",
    "0.02818,\n",
    "0.076108,\n",
    "])"
   ]
  },
  {
   "cell_type": "code",
   "execution_count": 19,
   "id": "cdf1c073-76b6-410c-a959-053cf2d516b0",
   "metadata": {},
   "outputs": [],
   "source": [
    "stddev = np.array([\n",
    "    1.4087694759538252, 8.169846999347833, 0.5909392280013404, 1.2760206328572508, 1.2781117491237137, 280.8318387084699, 0.9023315352619169, 10.326329683870782, 10.417824623344135, 10.491964677349108, 9.500375000216508, 4.064925237925626\n",
    "])"
   ]
  },
  {
   "cell_type": "code",
   "execution_count": 20,
   "id": "0ce6e709-8689-4252-a301-c205c216f0d7",
   "metadata": {},
   "outputs": [
    {
     "data": {
      "text/plain": [
       "0.04409889531772537"
      ]
     },
     "execution_count": 20,
     "metadata": {},
     "output_type": "execute_result"
    }
   ],
   "source": [
    "std_mae = (mae / stddev).mean()\n",
    "std_mae"
   ]
  },
  {
   "cell_type": "code",
   "execution_count": 21,
   "id": "3a4f9347-e374-4c2e-a4bf-f5f06bc87b8d",
   "metadata": {},
   "outputs": [
    {
     "data": {
      "text/plain": [
       "-1.8001125586654974"
      ]
     },
     "execution_count": 21,
     "metadata": {},
     "output_type": "execute_result"
    }
   ],
   "source": [
    "log_mae = np.log10(mae / stddev).mean()\n",
    "log_mae"
   ]
  }
 ],
 "metadata": {
  "kernelspec": {
   "display_name": "Python 3",
   "language": "python",
   "name": "python3"
  },
  "language_info": {
   "codemirror_mode": {
    "name": "ipython",
    "version": 3
   },
   "file_extension": ".py",
   "mimetype": "text/x-python",
   "name": "python",
   "nbconvert_exporter": "python",
   "pygments_lexer": "ipython3",
   "version": "3.7.10"
  }
 },
 "nbformat": 4,
 "nbformat_minor": 5
}
