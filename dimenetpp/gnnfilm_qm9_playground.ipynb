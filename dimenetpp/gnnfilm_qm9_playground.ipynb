{
 "cells": [
  {
   "cell_type": "code",
   "execution_count": 50,
   "metadata": {},
   "outputs": [],
   "source": [
    "import copy\n",
    "import gzip\n",
    "import json\n",
    "import binascii\n",
    "from typing import Any, List, Optional, Iterable, Callable\n",
    "from collections import OrderedDict\n",
    "import numpy as np\n",
    "import scipy.sparse as sp"
   ]
  },
  {
   "cell_type": "code",
   "execution_count": 2,
   "metadata": {},
   "outputs": [],
   "source": [
    "def is_gzipped(path: str) -> bool:\n",
    "    with open(path, 'rb') as f:\n",
    "        return binascii.hexlify(f.read(2)) == b'1f8b'\n",
    "\n",
    "def read_binary(path: str) -> bytes:\n",
    "    if is_gzipped(path):\n",
    "        with gzip.open(path) as f:\n",
    "            return f.read()\n",
    "    else:\n",
    "        with open(path, 'rb') as f:\n",
    "            return f.read()\n",
    "\n",
    "def read_text(path: str) -> str:\n",
    "    return read_binary(path).decode('utf-8')\n",
    "\n",
    "def read_jsonl(path: str) -> Iterable[Any]:\n",
    "    \"\"\"\n",
    "    Parse JSONL files. See http://jsonlines.org/ for more.\n",
    "    :param error_handling: a callable that receives the original line and the exception object and takes\n",
    "            over how parse error handling should happen.\n",
    "    :return: a iterator of the parsed objects of each line.\n",
    "    \"\"\"\n",
    "    for line in read_text(path).splitlines():\n",
    "        yield json.loads(line, object_pairs_hook=OrderedDict)"
   ]
  },
  {
   "cell_type": "code",
   "execution_count": 83,
   "metadata": {},
   "outputs": [],
   "source": [
    "val = list(read_jsonl(\"data/qm9/valid.jsonl.gz\"))\n",
    "data = val"
   ]
  },
  {
   "cell_type": "code",
   "execution_count": 84,
   "metadata": {},
   "outputs": [],
   "source": [
    "target_idx = [1, 2]"
   ]
  },
  {
   "cell_type": "code",
   "execution_count": 197,
   "metadata": {},
   "outputs": [],
   "source": [
    "idx = [1, 250, 66, 14, 8829]\n",
    "mols = [copy.deepcopy(data[i]) for i in idx]"
   ]
  },
  {
   "cell_type": "code",
   "execution_count": 198,
   "metadata": {},
   "outputs": [],
   "source": [
    "def _edge_list_to_csr(edge_list):\n",
    "    edge_array = np.array(edge_list)\n",
    "    edgeid_to_target, edge_type, edgeid_to_source = edge_array.T\n",
    "    natoms = np.max([edgeid_to_target, edgeid_to_source]) + 1\n",
    "    adj_matrix = sp.csr_matrix((edge_type, (edgeid_to_target, edgeid_to_source)),\n",
    "                               (natoms, natoms))\n",
    "    adj_matrix += adj_matrix.T  # Make adjacency symmetric\n",
    "    edge_type = adj_matrix.data - 1  # Make edge type start from 0\n",
    "    adj_matrix.data.fill(1)\n",
    "    return adj_matrix, edge_type"
   ]
  },
  {
   "cell_type": "code",
   "execution_count": 199,
   "metadata": {},
   "outputs": [],
   "source": [
    "for mol in mols:\n",
    "    mol['targets'] = np.array(mol['targets'])[target_idx].flatten()\n",
    "    mol['adj_matrix'], mol['edge_type'] = _edge_list_to_csr(mol['graph'])"
   ]
  },
  {
   "cell_type": "code",
   "execution_count": 88,
   "metadata": {},
   "outputs": [
    {
     "data": {
      "text/plain": [
       "array([[-0.11144937,  0.07785303],\n",
       "       [-0.21300392,  1.2068366 ],\n",
       "       [ 0.66183352,  0.07785303],\n",
       "       [-0.38674787, -1.30151   ],\n",
       "       [ 0.68630451,  0.05964362]])"
      ]
     },
     "execution_count": 88,
     "metadata": {},
     "output_type": "execute_result"
    }
   ],
   "source": [
    "np.vstack([mol['targets'] for mol in mols])"
   ]
  },
  {
   "cell_type": "code",
   "execution_count": 200,
   "metadata": {},
   "outputs": [
    {
     "data": {
      "text/plain": [
       "array([0, 0, 0, 0, 0, 0, 0, 0, 0, 0, 0, 0, 0, 0, 0, 0, 0, 0, 0, 0, 0, 0,\n",
       "       0, 0, 0, 0, 0, 0, 1, 1, 0, 0, 0, 0, 0, 0, 0, 0, 0, 0, 0, 0, 0, 0,\n",
       "       0, 0, 0, 0, 0, 0, 0, 0, 0, 0, 0, 0, 0, 0, 0, 0, 1, 0, 1, 0, 0, 0,\n",
       "       0, 0, 0, 0, 0, 0, 0, 0, 0, 0, 0, 0, 0, 0, 0, 0, 0, 0, 0, 0, 0, 0,\n",
       "       0, 0, 0, 0, 0, 0, 0, 0, 0, 0, 0, 2, 2, 0, 0, 0, 0, 0, 0, 0, 0, 0,\n",
       "       0, 0, 0, 0, 0, 0, 0, 0, 0, 0, 0, 1, 1, 0, 0, 0, 0, 0, 0, 0, 0, 0,\n",
       "       0, 0, 0, 0, 0, 0, 2, 2, 0, 0, 0, 0, 0, 0, 0, 0, 0, 0, 0, 0, 0, 1,\n",
       "       1, 0, 0, 0, 0, 0, 0, 0, 0, 0, 0, 0, 0, 0, 0, 0, 0, 0, 0, 0, 0, 0,\n",
       "       0, 0, 0, 0, 0, 0, 0, 0, 0, 0, 0, 0], dtype=int64)"
      ]
     },
     "execution_count": 200,
     "metadata": {},
     "output_type": "execute_result"
    }
   ],
   "source": [
    "np.hstack([mol['edge_type'] for mol in mols])"
   ]
  },
  {
   "cell_type": "code",
   "execution_count": null,
   "metadata": {},
   "outputs": [],
   "source": [
    "dist = {'type': 'ppr', 'alpha': 0.15}"
   ]
  },
  {
   "cell_type": "code",
   "execution_count": 136,
   "metadata": {
    "collapsed": true,
    "jupyter": {
     "outputs_hidden": true
    }
   },
   "outputs": [
    {
     "data": {
      "text/plain": [
       "array([[ 1.  , -0.85,  0.  ,  0.  ,  0.  ,  0.  ,  0.  ,  0.  ,  0.  ,\n",
       "        -0.85, -0.85, -0.85,  0.  ,  0.  ,  0.  ,  0.  ,  0.  ,  0.  ],\n",
       "       [-0.85,  1.  , -0.85,  0.  ,  0.  ,  0.  ,  0.  ,  0.  ,  0.  ,\n",
       "         0.  ,  0.  ,  0.  ,  0.  ,  0.  ,  0.  ,  0.  ,  0.  ,  0.  ],\n",
       "       [ 0.  , -0.85,  1.  , -0.85,  0.  ,  0.  , -0.85,  0.  ,  0.  ,\n",
       "         0.  ,  0.  ,  0.  ,  0.  ,  0.  ,  0.  ,  0.  ,  0.  ,  0.  ],\n",
       "       [ 0.  ,  0.  , -0.85,  1.  , -0.85, -0.85,  0.  ,  0.  ,  0.  ,\n",
       "         0.  ,  0.  ,  0.  ,  0.  ,  0.  ,  0.  ,  0.  ,  0.  ,  0.  ],\n",
       "       [ 0.  ,  0.  ,  0.  , -0.85,  1.  , -0.85,  0.  ,  0.  ,  0.  ,\n",
       "         0.  ,  0.  ,  0.  , -0.85, -0.85,  0.  ,  0.  ,  0.  ,  0.  ],\n",
       "       [ 0.  ,  0.  ,  0.  , -0.85, -0.85,  1.  , -0.85,  0.  ,  0.  ,\n",
       "         0.  ,  0.  ,  0.  ,  0.  ,  0.  , -0.85,  0.  ,  0.  ,  0.  ],\n",
       "       [ 0.  ,  0.  , -0.85,  0.  ,  0.  , -0.85,  1.  , -0.85, -0.85,\n",
       "         0.  ,  0.  ,  0.  ,  0.  ,  0.  ,  0.  ,  0.  ,  0.  ,  0.  ],\n",
       "       [ 0.  ,  0.  ,  0.  ,  0.  ,  0.  ,  0.  , -0.85,  1.  , -0.85,\n",
       "         0.  ,  0.  ,  0.  ,  0.  ,  0.  ,  0.  , -0.85, -0.85,  0.  ],\n",
       "       [ 0.  ,  0.  ,  0.  ,  0.  ,  0.  ,  0.  , -0.85, -0.85,  1.  ,\n",
       "         0.  ,  0.  ,  0.  ,  0.  ,  0.  ,  0.  ,  0.  ,  0.  , -0.85],\n",
       "       [-0.85,  0.  ,  0.  ,  0.  ,  0.  ,  0.  ,  0.  ,  0.  ,  0.  ,\n",
       "         1.  ,  0.  ,  0.  ,  0.  ,  0.  ,  0.  ,  0.  ,  0.  ,  0.  ],\n",
       "       [-0.85,  0.  ,  0.  ,  0.  ,  0.  ,  0.  ,  0.  ,  0.  ,  0.  ,\n",
       "         0.  ,  1.  ,  0.  ,  0.  ,  0.  ,  0.  ,  0.  ,  0.  ,  0.  ],\n",
       "       [-0.85,  0.  ,  0.  ,  0.  ,  0.  ,  0.  ,  0.  ,  0.  ,  0.  ,\n",
       "         0.  ,  0.  ,  1.  ,  0.  ,  0.  ,  0.  ,  0.  ,  0.  ,  0.  ],\n",
       "       [ 0.  ,  0.  ,  0.  ,  0.  , -0.85,  0.  ,  0.  ,  0.  ,  0.  ,\n",
       "         0.  ,  0.  ,  0.  ,  1.  ,  0.  ,  0.  ,  0.  ,  0.  ,  0.  ],\n",
       "       [ 0.  ,  0.  ,  0.  ,  0.  , -0.85,  0.  ,  0.  ,  0.  ,  0.  ,\n",
       "         0.  ,  0.  ,  0.  ,  0.  ,  1.  ,  0.  ,  0.  ,  0.  ,  0.  ],\n",
       "       [ 0.  ,  0.  ,  0.  ,  0.  ,  0.  , -0.85,  0.  ,  0.  ,  0.  ,\n",
       "         0.  ,  0.  ,  0.  ,  0.  ,  0.  ,  1.  ,  0.  ,  0.  ,  0.  ],\n",
       "       [ 0.  ,  0.  ,  0.  ,  0.  ,  0.  ,  0.  ,  0.  , -0.85,  0.  ,\n",
       "         0.  ,  0.  ,  0.  ,  0.  ,  0.  ,  0.  ,  1.  ,  0.  ,  0.  ],\n",
       "       [ 0.  ,  0.  ,  0.  ,  0.  ,  0.  ,  0.  ,  0.  , -0.85,  0.  ,\n",
       "         0.  ,  0.  ,  0.  ,  0.  ,  0.  ,  0.  ,  0.  ,  1.  ,  0.  ],\n",
       "       [ 0.  ,  0.  ,  0.  ,  0.  ,  0.  ,  0.  ,  0.  ,  0.  , -0.85,\n",
       "         0.  ,  0.  ,  0.  ,  0.  ,  0.  ,  0.  ,  0.  ,  0.  ,  1.  ]])"
      ]
     },
     "execution_count": 136,
     "metadata": {},
     "output_type": "execute_result"
    }
   ],
   "source": [
    "ppr_inner = np.eye(natoms) - (1 - dist['alpha']) * mol['adj_matrix'].A\n",
    "ppr_inner"
   ]
  },
  {
   "cell_type": "code",
   "execution_count": 191,
   "metadata": {},
   "outputs": [],
   "source": [
    "natoms = mol['adj_matrix'].shape[0]\n",
    "\n",
    "eps = 1e-6\n",
    "deg = mol['adj_matrix'].sum(1).A1\n",
    "deg_inv_sqrt = np.sqrt(1 / (deg + eps))\n",
    "T_sym = deg_inv_sqrt[None, :] * mol['adj_matrix'].A * deg_inv_sqrt[:, None]\n",
    "ppr = dist['alpha'] * np.linalg.inv(np.eye(natoms) - (1 - dist['alpha']) * T_sym)"
   ]
  },
  {
   "cell_type": "code",
   "execution_count": 196,
   "metadata": {},
   "outputs": [
    {
     "data": {
      "text/plain": [
       "OrderedDict([('targets',\n",
       "              [[-0.37200695],\n",
       "               [-2.6319599],\n",
       "               [-1.8068211],\n",
       "               [-0.22489363],\n",
       "               [0.61777782],\n",
       "               [-0.51425904],\n",
       "               [-2.3368211],\n",
       "               [2.1782131],\n",
       "               [2.1805403],\n",
       "               [2.1799278],\n",
       "               [2.1852105],\n",
       "               [-0.64080489],\n",
       "               [-0.011956506]]),\n",
       "             ('graph',\n",
       "              [[0, 1, 1],\n",
       "               [1, 1, 2],\n",
       "               [1, 1, 3],\n",
       "               [1, 1, 4],\n",
       "               [4, 1, 5],\n",
       "               [4, 1, 6],\n",
       "               [4, 1, 9],\n",
       "               [5, 1, 6],\n",
       "               [6, 1, 7],\n",
       "               [6, 1, 10],\n",
       "               [7, 3, 8],\n",
       "               [8, 1, 11]]),\n",
       "             ('id', 'qm9:133582'),\n",
       "             ('node_features',\n",
       "              [[0, 0, 0, 0, 1, 9, -0.059756, 1, 0, 0, 0, 0, 1, 0, 0],\n",
       "               [0, 1, 0, 0, 0, 6, 0.290528, 0, 0, 0, 0, 0, 1, 0, 0],\n",
       "               [0, 0, 0, 0, 1, 9, -0.072299004, 1, 0, 0, 0, 0, 1, 0, 0],\n",
       "               [0, 0, 0, 0, 1, 9, -0.075833999, 1, 0, 0, 0, 0, 1, 0, 0],\n",
       "               [0, 1, 0, 0, 0, 6, -0.123046, 0, 0, 0, 0, 0, 1, 0, 1],\n",
       "               [0, 0, 0, 1, 0, 8, -0.223547, 1, 0, 0, 0, 0, 1, 0, 0],\n",
       "               [0, 1, 0, 0, 0, 6, -0.15096299, 0, 0, 0, 0, 0, 1, 0, 1],\n",
       "               [0, 1, 0, 0, 0, 6, 0.34567001, 0, 0, 0, 1, 0, 0, 0, 0],\n",
       "               [0, 1, 0, 0, 0, 6, -0.40512201, 0, 0, 0, 1, 0, 0, 0, 1],\n",
       "               [1, 0, 0, 0, 0, 1, 0.130033, 0, 0, 0, 0, 0, 0, 1, 0],\n",
       "               [1, 0, 0, 0, 0, 1, 0.13276801, 0, 0, 0, 0, 0, 0, 1, 0],\n",
       "               [1, 0, 0, 0, 0, 1, 0.211567, 0, 0, 0, 0, 0, 0, 1, 0]])])"
      ]
     },
     "execution_count": 196,
     "metadata": {},
     "output_type": "execute_result"
    }
   ],
   "source": [
    "data[0]"
   ]
  }
 ],
 "metadata": {
  "kernelspec": {
   "display_name": "Python 3",
   "language": "python",
   "name": "python3"
  },
  "language_info": {
   "codemirror_mode": {
    "name": "ipython",
    "version": 3
   },
   "file_extension": ".py",
   "mimetype": "text/x-python",
   "name": "python",
   "nbconvert_exporter": "python",
   "pygments_lexer": "ipython3",
   "version": "3.7.3"
  }
 },
 "nbformat": 4,
 "nbformat_minor": 4
}
